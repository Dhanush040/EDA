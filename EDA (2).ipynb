{
  "cells": [
    {
      "cell_type": "code",
      "execution_count": 20,
      "id": "a77aee32-f435-48b7-bdf6-be363daeb606",
      "metadata": {
        "trusted": true
      },
      "outputs": [
        {
          "name": "stdout",
          "output_type": "stream",
          "text": [
            "<class 'pandas.core.frame.DataFrame'>\n",
            "RangeIndex: 1061 entries, 0 to 1060\n",
            "Data columns (total 7 columns):\n",
            " #   Column             Non-Null Count  Dtype  \n",
            "---  ------             --------------  -----  \n",
            " 0   name               1061 non-null   object \n",
            " 1   selling_price      1061 non-null   int64  \n",
            " 2   year               1061 non-null   int64  \n",
            " 3   seller_type        1061 non-null   object \n",
            " 4   owner              1061 non-null   object \n",
            " 5   km_driven          1061 non-null   int64  \n",
            " 6   ex_showroom_price  626 non-null    float64\n",
            "dtypes: float64(1), int64(3), object(3)\n",
            "memory usage: 45.7+ KB\n"
          ]
        },
        {
          "data": {
            "text/plain": [
              "(                                  name  selling_price  year seller_type  \\\n",
              " 0            Royal Enfield Classic 350         175000  2019  Individual   \n",
              " 1                            Honda Dio          45000  2017  Individual   \n",
              " 2  Royal Enfield Classic Gunmetal Grey         150000  2018  Individual   \n",
              " 3    Yamaha Fazer FI V 2.0 [2016-2018]          65000  2015  Individual   \n",
              " 4                Yamaha SZ [2013-2014]          20000  2011  Individual   \n",
              " \n",
              "        owner  km_driven  ex_showroom_price  \n",
              " 0  1st owner        350                NaN  \n",
              " 1  1st owner       5650                NaN  \n",
              " 2  1st owner      12000           148114.0  \n",
              " 3  1st owner      23000            89643.0  \n",
              " 4  2nd owner      21000                NaN  ,\n",
              " None,\n",
              "        selling_price         year      km_driven  ex_showroom_price\n",
              " count    1061.000000  1061.000000    1061.000000       6.260000e+02\n",
              " mean    59638.151744  2013.867107   34359.833176       8.795871e+04\n",
              " std     56304.291973     4.301191   51623.152702       7.749659e+04\n",
              " min      5000.000000  1988.000000     350.000000       3.049000e+04\n",
              " 25%     28000.000000  2011.000000   13500.000000       5.485200e+04\n",
              " 50%     45000.000000  2015.000000   25000.000000       7.275250e+04\n",
              " 75%     70000.000000  2017.000000   43000.000000       8.703150e+04\n",
              " max    760000.000000  2020.000000  880000.000000       1.278000e+06)"
            ]
          },
          "execution_count": 20,
          "metadata": {},
          "output_type": "execute_result"
        }
      ],
      "source": [
        "import pandas as pd\n",
        "\n",
        "# Load the dataset\n",
        "file_path = '/mnt/data/BIKE DETAILS.csv'\n",
        "bike_data = pd.read_csv('BIKE DETAILS.csv')\n",
        "\n",
        "# Preview the dataset to understand its structure\n",
        "bike_data.head(), bike_data.info(), bike_data.describe()\n"
      ]
    },
    {
      "cell_type": "code",
      "execution_count": null,
      "id": "b44cfabf-3540-4bdf-856c-ab79ee143c40",
      "metadata": {
        "trusted": true
      },
      "outputs": [],
      "source": [
        "#1)  What is the range of selling prices in the dataset"
      ]
    },
    {
      "cell_type": "code",
      "execution_count": 6,
      "id": "9a3bfd75-6205-4984-a180-1d9914f30dfa",
      "metadata": {
        "trusted": true
      },
      "outputs": [
        {
          "name": "stdout",
          "output_type": "stream",
          "text": [
            "count      1061.000000\n",
            "mean      59638.151744\n",
            "std       56304.291973\n",
            "min        5000.000000\n",
            "25%       28000.000000\n",
            "50%       45000.000000\n",
            "75%       70000.000000\n",
            "max      760000.000000\n",
            "Name: selling_price, dtype: float64\n",
            "The range of selling prices is: 755000\n"
          ]
        }
      ],
      "source": [
        "# Display summary statistics for the selling price column\n",
        "print(bike_data['selling_price'].describe())\n",
        "# Calculate the range of selling prices\n",
        "price_range = bike_data['selling_price'].max() - bike_data['selling_price'].min()\n",
        "print(f\"The range of selling prices is: {price_range}\")\n"
      ]
    },
    {
      "cell_type": "code",
      "execution_count": null,
      "id": "a8b1122d-5903-43ac-963e-3499f36fcbb3",
      "metadata": {
        "trusted": true
      },
      "outputs": [],
      "source": [
        "#2)  What is the median selling price for bikes in the dataset"
      ]
    },
    {
      "cell_type": "code",
      "execution_count": 7,
      "id": "863e1e1f-1d03-4c51-8843-2aa72e85a2e3",
      "metadata": {
        "trusted": true
      },
      "outputs": [
        {
          "name": "stdout",
          "output_type": "stream",
          "text": [
            "The median selling price for bikes is: 45000.0\n"
          ]
        }
      ],
      "source": [
        "# Calculate the median selling price for bikes\n",
        "median_price = bike_data['selling_price'].median()\n",
        "print(f\"The median selling price for bikes is: {median_price}\")\n"
      ]
    },
    {
      "cell_type": "code",
      "execution_count": 8,
      "id": "914517eb-d0d3-4191-859b-106973ba00ca",
      "metadata": {
        "trusted": true
      },
      "outputs": [
        {
          "name": "stdout",
          "output_type": "stream",
          "text": [
            "The most common seller type is: Individual\n"
          ]
        }
      ],
      "source": [
        "#3) What is the most common seller type\n",
        "\n",
        "most_common_seller_type = bike_data['seller_type'].mode()[0]\n",
        "print(f\"The most common seller type is: {most_common_seller_type}\")\n"
      ]
    },
    {
      "cell_type": "code",
      "execution_count": 12,
      "id": "4d2e26b7-04e0-4cbd-a7eb-1bf91e1c5353",
      "metadata": {
        "trusted": true
      },
      "outputs": [
        {
          "name": "stdout",
          "output_type": "stream",
          "text": [
            "Number of bikes with over 50,000 km: 2\n"
          ]
        }
      ],
      "source": [
        "#4) How many bikes have driven more than 50,000 kilometers\n",
        "bike_data = [\n",
        "    {\"model\": \"Honda CBR650R\", \"mileage\": 45000},\n",
        "    {\"model\": \"Yamaha YZF-R1\", \"mileage\": 60000},\n",
        "    {\"model\": \"Kawasaki Ninja 650\", \"mileage\": 32000},\n",
        "    {\"model\": \"Suzuki GSX-R1000\", \"mileage\": 55000},\n",
        "    # ... more bike data\n",
        "]\n",
        "\n",
        "high_mileage_bikes = 0\n",
        "\n",
        "for bike in bike_data:\n",
        "    if bike[\"mileage\"] > 50000:\n",
        "        high_mileage_bikes += 1\n",
        "\n",
        "print(f\"Number of bikes with over 50,000 km: {high_mileage_bikes}\")"
      ]
    },
    {
      "cell_type": "code",
      "execution_count": 13,
      "id": "ba58b2b3-2e06-40dc-aaa4-8ef1750c4a3c",
      "metadata": {
        "trusted": true
      },
      "outputs": [
        {
          "name": "stdout",
          "output_type": "stream",
          "text": [
            "Average km driven for Rental: 27500.00\n",
            "Average km driven for Private: 16333.33\n",
            "Average km driven for Commercial: 40000.00\n"
          ]
        }
      ],
      "source": [
        "#5)  What is the average km_driven value for each ownership type\n",
        "\n",
        "# Sample data (replace with your actual data)\n",
        "ownership_data = [\n",
        "    {\"ownership_type\": \"Rental\", \"km_driven\": 20000},\n",
        "    {\"ownership_type\": \"Private\", \"km_driven\": 15000},\n",
        "    {\"ownership_type\": \"Rental\", \"km_driven\": 35000},\n",
        "    {\"ownership_type\": \"Private\", \"km_driven\": 22000},\n",
        "    {\"ownership_type\": \"Commercial\", \"km_driven\": 40000},\n",
        "    {\"ownership_type\": \"Private\", \"km_driven\": 12000},\n",
        "]\n",
        "\n",
        "# Calculate average km driven for each ownership type\n",
        "ownership_averages = {}\n",
        "for record in ownership_data:\n",
        "    ownership_type = record[\"ownership_type\"]\n",
        "    km_driven = record[\"km_driven\"]\n",
        "    if ownership_type not in ownership_averages:\n",
        "        ownership_averages[ownership_type] = []\n",
        "    ownership_averages[ownership_type].append(km_driven)\n",
        "\n",
        "for ownership_type, distances in ownership_averages.items():\n",
        "    average_km = sum(distances) / len(distances)\n",
        "    print(f\"Average km driven for {ownership_type}: {average_km:.2f}\")\n"
      ]
    },
    {
      "cell_type": "code",
      "execution_count": null,
      "id": "f4310499-839d-4e0c-968a-f8aa85177b3a",
      "metadata": {
        "scrolled": true,
        "trusted": true
      },
      "outputs": [],
      "source": [
        "#6) What proportion of bikes are from the year 2015 or older\n",
        "\n",
        "# Sample data (replace with your actual data about bikes and year)\n",
        "bikes_data = [\n",
        "    {\"year\": 2018, \"model\": \"Honda CBR650R\"},\n",
        "    {\"year\": 2012, \"year\": \"Yamaha YZF-R1\"},\n",
        "    {\"year\": 2020, \"model\": \"Kawasaki Ninja 650\"},\n",
        "    {\"year\": 2010, \"model\": \"Suzuki GSX-R1000\"},\n",
        "    {\"year\": 2016, \"model\": \"Ducati Panigale V4\"},\n",
        "]\n",
        "\n",
        "# Count bikes from 2015 or older\n",
        "total_bikes = len(bikes_data)\n",
        "old_bikes = 0\n",
        "for bike in bikes_data:\n",
        "    if bike[\"2010\"] <= 2015:\n",
        "        old_bikes += 1\n",
        "\n",
        "# Calculate proportion\n",
        "proportion_old_bikes = old_bikes / total_bikes\n",
        "\n",
        "print(f\"Proportion of bikes from 2015 or older: {proportion_old_bikes:.2f}\")"
      ]
    },
    {
      "cell_type": "code",
      "execution_count": 24,
      "id": "35c7d32a-a75b-4647-9b82-3c1b05127db4",
      "metadata": {
        "trusted": true
      },
      "outputs": [
        {
          "name": "stdout",
          "output_type": "stream",
          "text": [
            "name                   0\n",
            "selling_price          0\n",
            "year                   0\n",
            "seller_type            0\n",
            "owner                  0\n",
            "km_driven              0\n",
            "ex_showroom_price    435\n",
            "dtype: int64\n"
          ]
        },
        {
          "data": {
            "image/png": "[encoded data removed]",
            "text/plain": [
              "<Figure size 1000x600 with 1 Axes>"
            ]
          },
          "metadata": {},
          "output_type": "display_data"
        }
      ],
      "source": [
        "#7) What is the trend of missing values across the dataset\n",
        "\n",
        "import pandas as pd\n",
        "import matplotlib.pyplot as plt\n",
        "# Assuming your data is in a CSV file\n",
        "df = pd.read_csv('BIKE DETAILS.csv')\n",
        "missing_values = df.isnull().sum()\n",
        "print(missing_values)\n",
        "plt.figure(figsize=(10, 6))\n",
        "missing_values.plot(kind='bar')\n",
        "plt.xlabel('Column Name')\n",
        "plt.ylabel('Number of Missing Values')\n",
        "plt.title('Missing Values per Column')\n",
        "plt.show()"
      ]
    },
    {
      "cell_type": "code",
      "execution_count": null,
      "id": "a15a663f-5c09-4fdf-8de4-194e421411c5",
      "metadata": {
        "trusted": true
      },
      "outputs": [],
      "source": [
        "#8) What is the highest ex_showroom_price recorded, and for which bike\n",
        "import pandas as pd\n",
        "\n",
        "# Assuming you have a CSV file with bike data, including 'model' and 'ex_showroom_price' columns\n",
        "bike_data = pd.read_csv(\"BIKE DETAILS.csv\")\n",
        "\n",
        "# Find the bike with the highest ex-showroom price\n",
        "highest_price_bike = bike_data.loc[bike_data['ex_showroom_price'].idxmax()]\n",
        "\n",
        "# Print the results\n",
        "print(\"Bike with the highest ex-showroom price:\")\n",
        "print(\"Model:\", highest_price_bike['model'])\n",
        "print(\"Ex-showroom Price:\", highest_price_bike['ex_showroom_price'])"
      ]
    },
    {
      "cell_type": "code",
      "execution_count": 4,
      "id": "24a477ca-b97c-4409-a9c5-9678c19ac09f",
      "metadata": {
        "scrolled": true,
        "trusted": true
      },
      "outputs": [
        {
          "data": {
            "text/plain": [
              "seller_type\n",
              "Individual    1055\n",
              "Dealer           6\n",
              "Name: count, dtype: int64"
            ]
          },
          "execution_count": 4,
          "metadata": {},
          "output_type": "execute_result"
        }
      ],
      "source": [
        "#9) What is the total number of bikes listed by each seller type\n",
        "import pandas as pd\n",
        "\n",
        "# Load the dataset\n",
        "file_path = \"/mnt/data/BIKE DETAILS.csv\"\n",
        "bike_data = pd.read_csv(\"BIKE DETAILS.csv\")\n",
        "\n",
        "# Group by 'seller_type' and count the number of bikes for each type\n",
        "seller_counts = bike_data['seller_type'].value_counts()\n",
        "\n",
        "seller_counts\n"
      ]
    },
    {
      "cell_type": "code",
      "execution_count": null,
      "id": "29428c6e-9aa7-4161-8630-fbd2945e4ffa",
      "metadata": {
        "trusted": true
      },
      "outputs": [],
      "source": [
        "#10  What is the relationship between selling_price and km_driven for first-owner bikes\n",
        "\n",
        "import matplotlib.pyplot as plt\n",
        "import seaborn as sns\n",
        "\n",
        "# Filter data for first-owner bikes\n",
        "first_owner_bikes = bike_data[bike_data['owner'] == '1st owner']\n",
        "\n",
        "# Create a scatter plot to visualize the relationship between selling_price and km_driven\n",
        "plt.figure(figsize=(10, 6))\n",
        "sns.scatterplot(data=first_owner_bikes, x='km_driven', y='selling_price', alpha=0.7)\n",
        "plt.title('Relationship between Selling Price and KM Driven for First-Owner Bikes')\n",
        "plt.xlabel('Kilometers Driven')\n",
        "plt.ylabel('Selling Price (INR)')\n",
        "plt.show()\n"
      ]
    },
    {
      "cell_type": "code",
      "execution_count": 13,
      "id": "fcd036bc-9bed-47f0-8d3c-3d3a0bfbec7e",
      "metadata": {
        "trusted": true
      },
      "outputs": [
        {
          "data": {
            "text/plain": [
              "(39, (1022, 7))"
            ]
          },
          "execution_count": 13,
          "metadata": {},
          "output_type": "execute_result"
        }
      ],
      "source": [
        "#11 Identify and remove outliers in the km_driven column using the IQR method\n",
        "# Calculate Q1, Q3, and IQR for the km_driven column\n",
        "Q1 = bike_data['km_driven'].quantile(0.25)\n",
        "Q3 = bike_data['km_driven'].quantile(0.75)\n",
        "IQR = Q3 - Q1\n",
        "\n",
        "# Calculate lower and upper bounds\n",
        "lower_bound = Q1 - 1.5 * IQR\n",
        "upper_bound = Q3 + 1.5 * IQR\n",
        "\n",
        "# Identify and filter out outliers\n",
        "filtered_bike_data = bike_data[(bike_data['km_driven'] >= lower_bound) & (bike_data['km_driven'] <= upper_bound)]\n",
        "\n",
        "# Calculate the number of rows removed\n",
        "rows_removed = bike_data.shape[0] - filtered_bike_data.shape[0]\n",
        "\n",
        "# Display the result\n",
        "rows_removed, filtered_bike_data.shape\n"
      ]
    },
    {
      "cell_type": "code",
      "execution_count": null,
      "id": "52eff11d-9ed2-4430-9293-e66f20aaab2d",
      "metadata": {
        "trusted": true
      },
      "outputs": [],
      "source": [
        "#12 # Create a scatter plot to visualize the relationship between year and selling_price\n",
        "\n",
        "import matplotlib.pyplot as plt\n",
        "import seaborn as sns\n",
        "plt.figure(figsize=(10, 6))\n",
        "sns.scatterplot(data=filtered_bike_data, x='year', y='selling_price', alpha=0.7)\n",
        "plt.title('Relationship between Year and Selling Price')\n",
        "plt.xlabel('Year (Manufacturing Year)')\n",
        "plt.ylabel('Selling Price (INR)')\n",
        "plt.show()\n"
      ]
    },
    {
      "cell_type": "code",
      "execution_count": null,
      "id": "fc34dac5-fbb7-4860-b99f-580285a8a617",
      "metadata": {
        "trusted": true
      },
      "outputs": [],
      "source": [
        "#13 from datetime import datetime\n",
        "\n",
        "# Define the current year\n",
        "current_year = datetime.now().year\n",
        "\n",
        "# Calculate the age of the bike\n",
        "filtered_bike_data['age'] = current_year - filtered_bike_data['year']\n",
        "\n",
        "# Group by age and calculate the average selling price\n",
        "avg_depreciation_by_age = filtered_bike_data.groupby('age')['selling_price'].mean()\n",
        "\n",
        "# Display the result\n",
        "avg_depreciation_by_age\n"
      ]
    },
    {
      "cell_type": "code",
      "execution_count": 21,
      "id": "ab1afe81-b7a9-42fe-8748-3ad1bcbd0885",
      "metadata": {
        "trusted": true
      },
      "outputs": [
        {
          "data": {
            "text/html": [
              "<div>\n",
              "<style scoped>\n",
              "    .dataframe tbody tr th:only-of-type {\n",
              "        vertical-align: middle;\n",
              "    }\n",
              "\n",
              "    .dataframe tbody tr th {\n",
              "        vertical-align: top;\n",
              "    }\n",
              "\n",
              "    .dataframe thead th {\n",
              "        text-align: right;\n",
              "    }\n",
              "</style>\n",
              "<table border=\"1\" class=\"dataframe\">\n",
              "  <thead>\n",
              "    <tr style=\"text-align: right;\">\n",
              "      <th></th>\n",
              "      <th>name</th>\n",
              "      <th>year</th>\n",
              "      <th>selling_price</th>\n",
              "      <th>avg_price_year</th>\n",
              "    </tr>\n",
              "  </thead>\n",
              "  <tbody>\n",
              "    <tr>\n",
              "      <th>2</th>\n",
              "      <td>Royal Enfield Classic Gunmetal Grey</td>\n",
              "      <td>2018</td>\n",
              "      <td>150000</td>\n",
              "      <td>87660.374046</td>\n",
              "    </tr>\n",
              "    <tr>\n",
              "      <th>7</th>\n",
              "      <td>Royal Enfield Bullet 350 [2007-2011]</td>\n",
              "      <td>2008</td>\n",
              "      <td>180000</td>\n",
              "      <td>36404.000000</td>\n",
              "    </tr>\n",
              "    <tr>\n",
              "      <th>13</th>\n",
              "      <td>Yamaha YZF R3</td>\n",
              "      <td>2019</td>\n",
              "      <td>365000</td>\n",
              "      <td>119689.511628</td>\n",
              "    </tr>\n",
              "    <tr>\n",
              "      <th>18</th>\n",
              "      <td>Royal Enfield Classic Gunmetal Grey</td>\n",
              "      <td>2018</td>\n",
              "      <td>150000</td>\n",
              "      <td>87660.374046</td>\n",
              "    </tr>\n",
              "    <tr>\n",
              "      <th>23</th>\n",
              "      <td>Jawa Standard</td>\n",
              "      <td>2019</td>\n",
              "      <td>180000</td>\n",
              "      <td>119689.511628</td>\n",
              "    </tr>\n",
              "    <tr>\n",
              "      <th>...</th>\n",
              "      <td>...</td>\n",
              "      <td>...</td>\n",
              "      <td>...</td>\n",
              "      <td>...</td>\n",
              "    </tr>\n",
              "    <tr>\n",
              "      <th>979</th>\n",
              "      <td>Royal Enfield Thunder 500</td>\n",
              "      <td>2015</td>\n",
              "      <td>105000</td>\n",
              "      <td>56313.131313</td>\n",
              "    </tr>\n",
              "    <tr>\n",
              "      <th>981</th>\n",
              "      <td>Royal Enfield Thunder 350</td>\n",
              "      <td>2013</td>\n",
              "      <td>105000</td>\n",
              "      <td>51802.816901</td>\n",
              "    </tr>\n",
              "    <tr>\n",
              "      <th>983</th>\n",
              "      <td>Royal Enfield Classic 350</td>\n",
              "      <td>2015</td>\n",
              "      <td>100000</td>\n",
              "      <td>56313.131313</td>\n",
              "    </tr>\n",
              "    <tr>\n",
              "      <th>984</th>\n",
              "      <td>Royal Enfield Classic 500</td>\n",
              "      <td>2014</td>\n",
              "      <td>95000</td>\n",
              "      <td>49121.348315</td>\n",
              "    </tr>\n",
              "    <tr>\n",
              "      <th>985</th>\n",
              "      <td>Royal Enfield Classic 500</td>\n",
              "      <td>2011</td>\n",
              "      <td>90000</td>\n",
              "      <td>35931.017241</td>\n",
              "    </tr>\n",
              "  </tbody>\n",
              "</table>\n",
              "<p>155 rows × 4 columns</p>\n",
              "</div>"
            ],
            "text/plain": [
              "                                     name  year  selling_price  avg_price_year\n",
              "2     Royal Enfield Classic Gunmetal Grey  2018         150000    87660.374046\n",
              "7    Royal Enfield Bullet 350 [2007-2011]  2008         180000    36404.000000\n",
              "13                          Yamaha YZF R3  2019         365000   119689.511628\n",
              "18    Royal Enfield Classic Gunmetal Grey  2018         150000    87660.374046\n",
              "23                          Jawa Standard  2019         180000   119689.511628\n",
              "..                                    ...   ...            ...             ...\n",
              "979             Royal Enfield Thunder 500  2015         105000    56313.131313\n",
              "981             Royal Enfield Thunder 350  2013         105000    51802.816901\n",
              "983             Royal Enfield Classic 350  2015         100000    56313.131313\n",
              "984             Royal Enfield Classic 500  2014          95000    49121.348315\n",
              "985             Royal Enfield Classic 500  2011          90000    35931.017241\n",
              "\n",
              "[155 rows x 4 columns]"
            ]
          },
          "execution_count": 21,
          "metadata": {},
          "output_type": "execute_result"
        }
      ],
      "source": [
        "#14  Calculate the average selling price for each manufacturing year\n",
        "avg_price_per_year = filtered_bike_data.groupby('year')['selling_price'].mean()\n",
        "\n",
        "# Merge the average price back into the dataset\n",
        "filtered_bike_data['avg_price_year'] = filtered_bike_data['year'].map(avg_price_per_year)\n",
        "\n",
        "# Identify bikes priced significantly above the average (e.g., 1.5 times the average price for that year)\n",
        "significant_bikes = filtered_bike_data[filtered_bike_data['selling_price'] > 1.5 * filtered_bike_data['avg_price_year']]\n",
        "\n",
        "# Select relevant columns to display\n",
        "significant_bike_names = significant_bikes[['name', 'year', 'selling_price', 'avg_price_year']]\n",
        "\n",
        "# Display the result\n",
        "significant_bike_names\n"
      ]
    },
    {
      "cell_type": "code",
      "execution_count": null,
      "id": "1c18a1ed-7ae5-4d43-bf9d-ee8958b811f7",
      "metadata": {
        "trusted": true
      },
      "outputs": [],
      "source": [
        "#15 Develop a correlation matrix for numeric columns and visualize it using a heatmap.\n",
        "import seaborn as sns\n",
        "import matplotlib.pyplot as plt\n",
        "\n",
        "# Select numeric columns\n",
        "numeric_data = bike_data.select_dtypes(include=['int64', 'float64'])\n",
        "\n",
        "# Compute the correlation matrix\n",
        "correlation_matrix = numeric_data.corr()\n",
        "\n",
        "# Plot the heatmap\n",
        "plt.figure(figsize=(10, 8))\n",
        "sns.heatmap(correlation_matrix, annot=True, cmap='coolwarm', fmt=\".2f\")\n",
        "plt.title('Correlation Matrix Heatmap')\n",
        "plt.show()\n"
      ]
    },
    {
      "cell_type": "code",
      "execution_count": null,
      "id": "6dba86a5-6999-4287-b0d5-66bd4c022064",
      "metadata": {
        "trusted": true
      },
      "outputs": [],
      "source": [
        "#EDA2\n",
        "#1)What is the average selling price of cars for each dealer, and how does it compare across different dealers\n",
        "import pandas as pd\n",
        "\n",
        "# Load the Car Sales dataset\n",
        "car_sales_path = \"/mnt/data/Car Sale.csv\"\n",
        "car_sales_data = pd.read_csv('Car Sale.csv')\n",
        "\n",
        "# Calculate the average selling price for each dealer\n",
        "average_prices = car_sales_data.groupby('Dealer')['Selling Price'].mean()\n",
        "\n",
        "# Display the average selling prices\n",
        "print(average_prices)\n",
        "\n",
        "# Compare the averages across different dealers\n",
        "comparison = average_prices.sort_values()\n",
        "print(comparison)\n"
      ]
    },
    {
      "cell_type": "code",
      "execution_count": null,
      "id": "39c15cad-f3e0-4ddd-8a0b-e9b1de1289c6",
      "metadata": {
        "trusted": true
      },
      "outputs": [],
      "source": [
        "#2Which car brand (Company) has the highest variation in prices, and what does this tell us about the pricing trends\n",
        "import pandas as pd\n",
        "\n",
        "# Load the Car Sales dataset\n",
        "car_sales_path = \"/mnt/data/Car Sale.csv\"\n",
        "car_sales_data = pd.read_csv(\"Car Sale.csv\")\n",
        "\n",
        "# Calculate the standard deviation of selling prices for each brand\n",
        "price_variations = car_sales_data.groupby('Company')['Selling Price'].std()\n",
        "\n",
        "# Display the standard deviation for each brand\n",
        "print(price_variations)\n",
        "\n",
        "# Identify the brand with the highest variation in prices\n",
        "highest_variation_brand = price_variations.idxmax()\n",
        "highest_variation_value = price_variations.max()\n",
        "\n",
        "print(f\"Brand with the highest variation in prices: {highest_variation_brand}\")\n",
        "print(f\"Standard deviation of prices for this brand: {highest_variation_value}\")\n"
      ]
    },
    {
      "cell_type": "code",
      "execution_count": null,
      "id": "49363cb8-a9a5-4d13-b361-8197df5f046f",
      "metadata": {
        "trusted": true
      },
      "outputs": [],
      "source": [
        "#3) What is the distribution of car prices for each transmission type, and how do the interquartile ranges compare\n",
        "import pandas as pd\n",
        "import matplotlib.pyplot as plt\n",
        "import seaborn as sns\n",
        "\n",
        "# Load the Car Sales dataset\n",
        "car_sales_path = \"/mnt/data/Car Sale.csv\"\n",
        "car_sales_data = pd.read_csv(\"Car Sale.csv\")\n",
        "\n",
        "# Calculate the summary statistics for each transmission type\n",
        "transmission_summary = car_sales_data.groupby('Transmission')['Selling Price'].describe()\n",
        "\n",
        "# Display the summary statistics\n",
        "print(transmission_summary)\n",
        "\n",
        "# Visualize the distribution of car prices for each transmission type using box plots\n",
        "plt.figure(figsize=(10, 6))\n",
        "sns.boxplot(data=car_sales_data, x='Transmission', y='Selling Price')\n",
        "plt.title('Distribution of Car Prices by Transmission Type')\n",
        "plt.xlabel('Transmission Type')\n",
        "plt.ylabel('Selling Price')\n",
        "plt.show()\n",
        "\n"
      ]
    },
    {
      "cell_type": "code",
      "execution_count": null,
      "id": "ce927951-0d3a-4aeb-b79a-b04e5baed842",
      "metadata": {
        "trusted": true
      },
      "outputs": [],
      "source": [
        "#4) What is the distribution of car prices across different regions\n",
        "import pandas as pd\n",
        "import matplotlib.pyplot as plt\n",
        "import seaborn as sns\n",
        "\n",
        "# Load the Car Sales dataset\n",
        "car_sales_path = \"/mnt/data/Car Sale.csv\"\n",
        "car_sales_data = pd.read_csv(\"Car Sale.csv\")\n",
        "\n",
        "# Calculate the summary statistics for each region\n",
        "region_summary = car_sales_data.groupby('Region')['Selling Price'].describe()\n",
        "\n",
        "# Display the summary statistics\n",
        "print(region_summary)\n",
        "\n",
        "# Visualize the distribution of car prices across different regions using box plots\n",
        "plt.figure(figsize=(12, 8)) sns.boxplot(data=car_sales_data, x='Region', y='Selling Price') plt.title('Distribution of Car Prices by Region') plt.xlabel('Region') plt.ylabel('Selling Price') plt.xticks(rotation=45) plt.show()\n"
      ]
    },
    {
      "cell_type": "code",
      "execution_count": null,
      "id": "2135d39e-db74-4910-b141-13a63b5c00a8",
      "metadata": {
        "trusted": true
      },
      "outputs": [],
      "source": [
        "#5 What is the distribution of cars based on body styles\n",
        "import pandas as pd\n",
        "import matplotlib.pyplot as plt\n",
        "\n",
        "# Load the Car Sales dataset\n",
        "car_sales_path = \"/mnt/data/Car Sale.csv\"\n",
        "car_sales_data = pd.read_csv(\"Car Sale.csv\")\n",
        "\n",
        "# Count the number of cars for each body style\n",
        "body_style_counts = car_sales_data['Body Style'].value_counts()\n",
        "\n",
        "# Display the counts\n",
        "print(body_style_counts)\n",
        "\n",
        "# Visualize the distribution of cars based on body styles using a bar plot\n",
        "plt.figure(figsize=(10, 6))\n",
        "body_style_counts.plot(kind='bar')\n",
        "plt.title('Distribution of Cars by Body Styles')\n",
        "plt.xlabel('Body Style')\n",
        "plt.ylabel('Number of Cars')\n",
        "plt.xticks(rotation=45)\n",
        "plt.show()\n"
      ]
    },
    {
      "cell_type": "code",
      "execution_count": null,
      "id": "e673fcc4-5bfe-4ee3-b56b-26a7fc7210f6",
      "metadata": {
        "trusted": true
      },
      "outputs": [],
      "source": [
        "# 6 How does the average selling price of cars vary by customer gender and annual income\n",
        "import pandas as pd\n",
        "import matplotlib.pyplot as plt\n",
        "import seaborn as sns\n",
        "\n",
        "# Load the Car Sales dataset\n",
        "car_sales_path = \"/mnt/data/Car Sale.csv\"\n",
        "car_sales_data = pd.read_csv(\"Car Sale.csv\")\n",
        "\n",
        "# Ensure the 'Annual Income' column is numeric for binning purposes\n",
        "car_sales_data['Annual Income'] = pd.to_numeric(car_sales_data['Annual Income'], errors='coerce')\n",
        "\n",
        "# Define income bins and labels\n",
        "bins = [0, 20000, 40000, 60000, 80000, 100000, 120000]\n",
        "labels = ['0-20K', '20K-40K', '40K-60K', '60K-80K', '80K-100K', '100K+']\n",
        "\n",
        "# Create a new column for income bins\n",
        "car_sales_data['Income Range'] = pd.cut(car_sales_data['Annual Income'], bins=bins, labels=labels, include_lowest=True)\n",
        "\n",
        "# Group by customer gender and income range, then calculate the average selling price\n",
        "avg_selling_price = car_sales_data.groupby(['Gender', 'Income Range'])['Selling Price'].mean().unstack()\n",
        "\n",
        "# Display the average selling prices\n",
        "print(avg_selling_price)\n",
        "\n",
        "# Visualize the results using a heatmap\n",
        "plt.figure(figsize=(12, 8))\n",
        "sns.heatmap(avg_selling_price, annot=True, fmt=\".2f\", cmap=\"YlGnBu\")\n",
        "plt.title('Average Selling Price by Gender and Income Range')\n",
        "plt.xlabel('Income Range')\n",
        "plt.ylabel('Gender')\n",
        "plt.show()\n",
        "\n"
      ]
    },
    {
      "cell_type": "code",
      "execution_count": null,
      "id": "f6a28c50-b0a5-40ff-be5a-935648df1972",
      "metadata": {
        "trusted": true
      },
      "outputs": [],
      "source": [
        "#7 What is the distribution of car prices by region, and how does the number of cars sold vary by region\n",
        "import pandas as pd\n",
        "import matplotlib.pyplot as plt\n",
        "import seaborn as sns\n",
        "\n",
        "# Load the Car Sales dataset\n",
        "car_sales_path = \"/mnt/data/Car Sale.csv\"\n",
        "car_sales_data = pd.read_csv(\"Car Sale.csv\")\n",
        "\n",
        "# Distribution of car prices by region\n",
        "plt.figure(figsize=(12, 8))\n",
        "sns.boxplot(data=car_sales_data, x='Region', y='Selling Price')\n",
        "plt.title('Distribution of Car Prices by Region')\n",
        "plt.xlabel('Region')\n",
        "plt.ylabel('Selling Price')\n",
        "plt.xticks(rotation=45)\n",
        "plt.show()\n",
        "\n",
        "# Number of cars sold by region\n",
        "car_count_by_region = car_sales_data['Region'].value_counts()\n",
        "\n",
        "plt.figure(figsize=(12, 8))\n",
        "car_count_by_region.plot(kind='bar')\n",
        "plt.title('Number of Cars Sold by Region')\n",
        "plt.xlabel('Region')\n",
        "plt.ylabel('Number of Cars Sold')\n",
        "plt.xticks(rotation=45)\n",
        "plt.show()\n"
      ]
    },
    {
      "cell_type": "code",
      "execution_count": null,
      "id": "04fc1871-ac61-45f1-9a65-8a1c5406c70b",
      "metadata": {
        "trusted": true
      },
      "outputs": [],
      "source": [
        "#8  How does the average car price differ between cars with different engine sizes\n",
        "import pandas as pd\n",
        "import matplotlib.pyplot as plt\n",
        "\n",
        "# Load the Car Sales dataset\n",
        "car_sales_path = \"/mnt/data/Car Sale.csv\"\n",
        "car_sales_data = pd.read_csv(\"Car Sale.csv\")\n",
        "\n",
        "# Calculate the average selling price for each engine size\n",
        "avg_price_by_engine_size = car_sales_data.groupby('Engine Size')['Selling Price'].mean().sort_values()\n",
        "\n",
        "# Display the average selling prices\n",
        "print(avg_price_by_engine_size)\n",
        "\n",
        "# Visualize the results using a bar plot\n",
        "plt.figure(figsize=(12, 8))\n",
        "avg_price_by_engine_size.plot(kind='bar')\n",
        "plt.title('Average Car Price by Engine Size')\n",
        "plt.xlabel('Engine Size')\n",
        "plt.ylabel('Average Selling Price')\n",
        "plt.xticks(rotation=45)\n",
        "plt.show()\n",
        "\n"
      ]
    },
    {
      "cell_type": "code",
      "execution_count": null,
      "id": "4d47cfa9-aac3-4329-9da4-892cd3b42bf1",
      "metadata": {
        "trusted": true
      },
      "outputs": [],
      "source": [
        "#9 How do car prices vary based on the customer’s annual income bracket\n",
        "import pandas as pd\n",
        "import matplotlib.pyplot as plt\n",
        "\n",
        "# Load the Car Sales dataset\n",
        "car_sales_path = \"/mnt/data/Car Sale.csv\"\n",
        "car_sales_data = pd.read_csv(\"Car Sale.csv\")\n",
        "\n",
        "# Ensure the 'Annual Income' column is numeric for binning purposes\n",
        "car_sales_data['Annual Income'] = pd.to_numeric(car_sales_data['Annual Income'], errors='coerce')\n",
        "\n",
        "# Define income brackets and labels\n",
        "bins = [0, 20000, 40000, 60000, 80000, 100000, 120000]\n",
        "labels = ['0-20K', '20K-40K', '40K-60K', '60K-80K', '80K-100K', '100K+']\n",
        "\n",
        "# Create a new column for income brackets\n",
        "car_sales_data['Income Bracket'] = pd.cut(car_sales_data['Annual Income'], bins=bins, labels=labels, include_lowest=True)\n",
        "\n",
        "# Calculate the average selling price for each income bracket\n",
        "avg_price_by_income_bracket = car_sales_data.groupby('Income Bracket')['Selling Price'].mean()\n",
        "\n",
        "# Display the average selling prices\n",
        "print(avg_price_by_income_bracket)\n",
        "\n",
        "# Visualize the results using a bar plot\n",
        "plt.figure(figsize=(10, 6))\n",
        "avg_price_by_income_bracket.plot(kind='bar')\n",
        "plt.title('Average Car Price by Annual Income Bracket')\n",
        "plt.xlabel('Annual Income Bracket')\n",
        "plt.ylabel('Average Selling Price')\n",
        "plt.xticks(rotation=45)\n",
        "plt.show()\n"
      ]
    },
    {
      "cell_type": "code",
      "execution_count": null,
      "id": "fca39643-7ff2-4477-be96-053b21038935",
      "metadata": {
        "trusted": true
      },
      "outputs": [],
      "source": [
        "#10 What are the top 5 car models with the highest number of sales, and how does their price distribution look\n",
        "import pandas as pd\n",
        "import matplotlib.pyplot as plt\n",
        "import seaborn as sns\n",
        "\n",
        "# Load the Car Sales dataset\n",
        "car_sales_path = \"/mnt/data/Car Sale.csv\"\n",
        "car_sales_data = pd.read_csv(\"Car Sale.csv\")\n",
        "\n",
        "# Count the number of sales for each car model\n",
        "top_models = car_sales_data['Car Model'].value_counts().head(5)\n",
        "\n",
        "# Display the top 5 car models with the highest number of sales\n",
        "print(top_models)\n",
        "\n",
        "# Filter the data to include only the top 5 models\n",
        "top_models_data = car_sales_data[car_sales_data['Car Model'].isin(top_models.index)]\n",
        "\n",
        "# Visualize the price distribution for the top 5 models using box plots\n",
        "plt.figure(figsize=(12, 8))\n",
        "sns.boxplot(data=top_models_data, x='Car Model', y='Selling Price')\n",
        "plt.title('Price Distribution for Top 5 Car Models by Sales')\n",
        "plt.xlabel('Car Model')\n",
        "plt.ylabel('Selling Price')\n",
        "plt.xticks(rotation=45)\n",
        "plt.show()\n"
      ]
    },
    {
      "cell_type": "code",
      "execution_count": null,
      "id": "c0893096-7e60-41e5-95c2-f60057af2db6",
      "metadata": {
        "trusted": true
      },
      "outputs": [],
      "source": [
        "#11 How does car price vary with engine size across different car colors, and which colors have the highest price variation\n",
        "import pandas as pd\n",
        "import matplotlib.pyplot as plt\n",
        "import seaborn as sns\n",
        "\n",
        "# Load the Car Sales dataset\n",
        "car_sales_path = \"/mnt/data/Car Sale.csv\"\n",
        "car_sales_data = pd.read_csv(\"Car Sale.csv\")\n",
        "\n",
        "# Calculate the average car price for each color and engine size combination\n",
        "avg_price_by_color_engine = car_sales_data.groupby(['Car Color', 'Engine Size'])['Selling Price'].mean().unstack()\n",
        "\n",
        "# Display the average prices\n",
        "print(avg_price_by_color_engine)\n",
        "\n",
        "# Calculate the price variation (standard deviation) for each car color\n",
        "price_variation_by_color = car_sales_data.groupby('Car Color')['Selling Price'].std()\n",
        "\n",
        "# Display the price variation for each color\n",
        "print(price_variation_by_color)\n",
        "\n",
        "# Identify the car colors with the highest price variation\n",
        "highest_variation_color = price_variation_by_color.idxmax()\n",
        "highest_variation_value = price_variation_by_color.max()\n",
        "\n",
        "print(f\"Car color with the highest price variation: {highest_variation_color}\")\n",
        "print(f\"Standard deviation of prices for this color: {highest_variation_value}\")\n",
        "\n",
        "# Visualize the average car price by engine size across different car colors\n",
        "plt.figure(figsize=(14, 10))\n",
        "sns.heatmap(avg_price_by_color_engine, annot=True, fmt=\".2f\", cmap=\"YlGnBu\")\n",
        "plt.title('Average Car Price by Engine Size and Car Color')\n",
        "plt.xlabel('Engine Size')\n",
        "plt.ylabel('Car Color')\n",
        "plt.show()\n",
        "\n",
        "# Visualize the price variation across different car colors\n",
        "plt.figure(figsize=(10, 6))\n",
        "price_variation_by_color.plot(kind='bar')\n",
        "plt.title('Price Variation (Standard Deviation) by Car Color')\n",
        "plt.xlabel('Car Color')\n",
        "plt.ylabel('Price Variation (Standard Deviation)')\n",
        "plt.xticks(rotation=45)\n",
        "plt.show()\n",
        "\n"
      ]
    },
    {
      "cell_type": "code",
      "execution_count": null,
      "id": "02d877c5-5817-43eb-972b-12319dc67be3",
      "metadata": {
        "trusted": true
      },
      "outputs": [],
      "source": [
        "# 12 Is there any seasonal trend in car sales based on the date of sale\n",
        "import pandas as pd\n",
        "import matplotlib.pyplot as plt\n",
        "\n",
        "# Load the Car Sales dataset\n",
        "car_sales_path = \"/mnt/data/Car Sale.csv\"\n",
        "car_sales_data = pd.read_csv(\"Car Sale.csv\")\n",
        "\n",
        "# Convert the 'Date of Sale' column to datetime format\n",
        "car_sales_data['Date of Sale'] = pd.to_datetime(car_sales_data['Date of Sale'], errors='coerce')\n",
        "\n",
        "# Extract the month and year from the 'Date of Sale' column\n",
        "car_sales_data['Month'] = car_sales_data['Date of Sale'].dt.month\n",
        "car_sales_data['Year'] = car_sales_data['Date of Sale'].dt.year\n",
        "\n",
        "# Group the data by month and calculate the number of sales in each month\n",
        "monthly_sales = car_sales_data.groupby('Month').size()\n",
        "\n",
        "# Display the monthly sales\n",
        "print(monthly_sales)\n",
        "\n",
        "# Visualize the monthly sales to identify seasonal trends\n",
        "plt.figure(figsize=(10, 6))\n",
        "monthly_sales.plot(kind='bar')\n",
        "plt.title('Monthly Car Sales')\n",
        "plt.xlabel('Month')\n",
        "plt.ylabel('Number of Sales')\n",
        "plt.xticks(range(12), ['Jan', 'Feb', 'Mar', 'Apr', 'May', 'Jun', 'Jul', 'Aug', 'Sep', 'Oct', 'Nov', 'Dec'], rotation=45)\n",
        "plt.show()\n"
      ]
    },
    {
      "cell_type": "code",
      "execution_count": null,
      "id": "85bbd853-9aed-45ab-94b1-31e243a32008",
      "metadata": {
        "trusted": true
      },
      "outputs": [],
      "source": [
        "#13 How does the car price distribution change when considering different combinations of body style and transmission type\n",
        "import pandas as pd\n",
        "import matplotlib.pyplot as plt\n",
        "import seaborn as sns\n",
        "\n",
        "# Load the Car Sales dataset\n",
        "car_sales_path = \"/mnt/data/Car Sale.csv\"\n",
        "car_sales_data = pd.read_csv(\"Car Sale.csv\")\n",
        "\n",
        "# Create a combined column for body style and transmission type\n",
        "car_sales_data['Body Style & Transmission'] = car_sales_data['Body Style'] + ' & ' + car_sales_data['Transmission']\n",
        "\n",
        "# Calculate summary statistics for each combination\n",
        "summary_stats = car_sales_data.groupby('Body Style & Transmission')['Selling Price'].describe()\n",
        "\n",
        "# Display the summary statistics\n",
        "print(summary_stats)\n",
        "\n",
        "# Visualize the price distribution for each combination using box plots\n",
        "plt.figure(figsize=(14, 10))\n",
        "sns.boxplot(data=car_sales_data, x='Body Style & Transmission', y='Selling Price')\n",
        "plt.title('Car Price Distribution by Body Style and Transmission Type')\n",
        "plt.xlabel('Body Style & Transmission')\n",
        "plt.ylabel('Selling Price')\n",
        "plt.xticks(rotation=45)\n",
        "plt.show()\n",
        "\n"
      ]
    },
    {
      "cell_type": "code",
      "execution_count": null,
      "id": "ceaa4702-88d9-4f4a-aaa6-dca0a56b89be",
      "metadata": {
        "trusted": true
      },
      "outputs": [],
      "source": [
        "#14 What is the correlation between car price, engine size, and annual income of customers, and how do these features interact\n",
        "import pandas as pd\n",
        "import seaborn as sns\n",
        "import matplotlib.pyplot as plt\n",
        "\n",
        "# Load the Car Sales dataset\n",
        "car_sales_path = \"/mnt/data/Car Sale.csv\"\n",
        "car_sales_data = pd.read_csv(\"Car Sale.csv\")\n",
        "\n",
        "# Ensure the necessary columns are numeric\n",
        "car_sales_data['Engine Size'] = pd.to_numeric(car_sales_data['Engine Size'], errors='coerce')\n",
        "car_sales_data['Annual Income'] = pd.to_numeric(car_sales_data['Annual Income'], errors='coerce')\n",
        "car_sales_data['Selling Price'] = pd.to_numeric(car_sales_data['Selling Price'], errors='coerce')\n",
        "\n",
        "# Select relevant columns for correlation analysis\n",
        "relevant_data = car_sales_data[['Selling Price', 'Engine Size', 'Annual Income']]\n",
        "\n",
        "# Calculate the correlation matrix\n",
        "correlation_matrix = relevant_data.corr()\n",
        "\n",
        "# Display the correlation matrix\n",
        "print(correlation_matrix)\n",
        "\n",
        "# Visualize the correlation matrix using a heatmap\n",
        "plt.figure(figsize=(8, 6))\n",
        "sns.heatmap(correlation_matrix, annot=True, fmt=\".2f\", cmap=\"YlGnBu\")\n",
        "plt.title('Correlation Matrix: Car Price, Engine Size, and Annual Income')\n",
        "plt.show()\n",
        "\n",
        "# Visualize the interactions between the features using pairplot\n",
        "sns.pairplot(relevant_data)\n",
        "plt.suptitle('Pairplot: Car Price, Engine Size, and Annual Income', y=1.02)\n",
        "plt.show()\n",
        "\n"
      ]
    },
    {
      "cell_type": "code",
      "execution_count": null,
      "id": "bbfc6b3f-a420-46b5-923a-9f08d5cd0927",
      "metadata": {
        "trusted": true
      },
      "outputs": [],
      "source": [
        "#15  How does the average car price vary across different car models and engine types?\n",
        "import pandas as pd\n",
        "import matplotlib.pyplot as plt\n",
        "import seaborn as sns\n",
        "\n",
        "# Load the Car Sales dataset\n",
        "car_sales_path = \"/mnt/data/Car Sale.csv\"\n",
        "car_sales_data = pd.read_csv(\"Car Sale.csv\")\n",
        "\n",
        "# Calculate the average selling price for each combination of car model and engine type\n",
        "avg_price_by_model_engine = car_sales_data.groupby(['Car Model', 'Engine Size'])['Selling Price'].mean().unstack()\n",
        "\n",
        "# Display the average prices\n",
        "print(avg_price_by_model_engine)\n",
        "\n",
        "# Visualize the results using a heatmap\n",
        "plt.figure(figsize=(14, 10))\n",
        "sns.heatmap(avg_price_by_model_engine, annot=True, fmt=\".2f\", cmap=\"YlGnBu\")\n",
        "plt.title('Average Car Price by Car Model and Engine Type')\n",
        "plt.xlabel('Engine Size')\n",
        "plt.ylabel('Car Model')\n",
        "plt.show()\n"
      ]
    },
    {
      "cell_type": "markdown",
      "id": "ff943a60-2055-4b60-aa15-076d6b57aaf0",
      "metadata": {},
      "source": [
        "#EDA 3 QUESTIONS NOT THERE IN QUESTION PAPER"
      ]
    },
    {
      "cell_type": "code",
      "execution_count": null,
      "id": "a42a3230-4f7d-418a-9171-cb3cd76022ff",
      "metadata": {
        "trusted": true
      },
      "outputs": [],
      "source": [
        "#EDA 4\n",
        "#1 Read the dataframe, check null value if present then do the needful, check duplicate row , if present then do the needful\n",
        "import pandas as pd\n",
        "\n",
        "# Load the Spotify dataset\n",
        "spotify_path = \"/mnt/data/spotify.csv\"\n",
        "spotify_data = pd.read_csv(\"spotify.csv\")\n",
        "\n",
        "# Display the first few rows to understand its structure\n",
        "print(spotify_data.head())\n",
        "\n",
        "# Check for null values\n",
        "null_values = spotify_data.isnull().sum()\n",
        "print(\"\\nNull values in each column:\")\n",
        "print(null_values)\n",
        "\n",
        "# Handle null values (e.g., drop rows with null values)\n",
        "spotify_data = spotify_data.dropna()\n",
        "\n",
        "# Verify that null values have been handled\n",
        "null_values_after = spotify_data.isnull().sum()\n",
        "print(\"\\nNull values after handling:\")\n",
        "print(null_values_after)\n",
        "\n",
        "# Check for duplicate rows\n",
        "duplicate_rows = spotify_data.duplicated().sum()\n",
        "print(\"\\nNumber of duplicate rows:\")\n",
        "print(duplicate_rows)\n",
        "\n",
        "# Handle duplicate rows (e.g., drop duplicate rows)\n",
        "spotify_data = spotify_data.drop_duplicates()\n",
        "\n",
        "# Verify that duplicate rows have been handled\n",
        "duplicate_rows_after = spotify_data.duplicated().sum()\n",
        "print(\"\\nNumber of duplicate rows after handling:\")\n",
        "print(duplicate_rows_after)\n"
      ]
    },
    {
      "cell_type": "code",
      "execution_count": null,
      "id": "5cf0c0ab-3675-48fc-8406-267702028b7a",
      "metadata": {
        "trusted": true
      },
      "outputs": [],
      "source": [
        "#2 What is the distribution of popularity among the tracks in the dataset? Visualize it using a histogram\n",
        "import pandas as pd\n",
        "import matplotlib.pyplot as plt\n",
        "\n",
        "# Load the Spotify dataset\n",
        "spotify_path = \"/mnt/data/spotify.csv\"\n",
        "spotify_data = pd.read_csv(\"spotify.csv\")\n",
        "\n",
        "# Display the first few rows to understand its structure\n",
        "print(spotify_data.head())\n",
        "\n",
        "# Check if 'popularity' column exists\n",
        "if 'popularity' in spotify_data.columns:\n",
        "    # Plot the distribution of popularity\n",
        "    plt.figure(figsize=(10, 6))\n",
        "    plt.hist(spotify_data['popularity'], bins=30, edgecolor='k', alpha=0.7)\n",
        "    plt.title('Distribution of Track Popularity')\n",
        "    plt.xlabel('Popularity')\n",
        "    plt.ylabel('Number of Tracks')\n",
        "    plt.show()\n",
        "else:\n",
        "    print(\"The 'popularity' column is not present in the dataset.\")\n"
      ]
    },
    {
      "cell_type": "code",
      "execution_count": null,
      "id": "6f390a2e-6b30-4d81-bc6f-3ccf93ac156a",
      "metadata": {
        "trusted": true
      },
      "outputs": [],
      "source": [
        "#3 Is there any relationship between the popularity and the duration of tracks? Explore this using a scatter plot\n",
        "import pandas as pd\n",
        "import matplotlib.pyplot as plt\n",
        "\n",
        "# Load the Spotify dataset\n",
        "spotify_path = \"/mnt/data/spotify.csv\"\n",
        "spotify_data = pd.read_csv(\"spotify.csv\")\n",
        "\n",
        "# Display the first few rows to understand its structure\n",
        "print(spotify_data.head())\n",
        "\n",
        "# Check if 'popularity' and 'duration_ms' columns exist\n",
        "if 'popularity' in spotify_data.columns and 'duration_ms' in spotify_data.columns:\n",
        "    # Create a scatter plot\n",
        "    plt.figure(figsize=(10, 6))\n",
        "    plt.scatter(spotify_data['duration_ms'], spotify_data['popularity'], alpha=0.5)\n",
        "    plt.title('Relationship between Track Popularity and Duration')\n",
        "    plt.xlabel('Duration (ms)')\n",
        "    plt.ylabel('Popularity')\n",
        "    plt.show()\n",
        "else:\n",
        "    print(\"The required columns 'popularity' and 'duration_ms' are not present in the dataset.\")\n"
      ]
    },
    {
      "cell_type": "code",
      "execution_count": null,
      "id": "ac5e9563-d4f5-4af9-904b-8c5638c848ac",
      "metadata": {
        "trusted": true
      },
      "outputs": [],
      "source": [
        "#4 Which artist has the highest number of tracks in the dataset? Display the count of tracks for each artist using a countplot\n",
        "import pandas as pd\n",
        "import matplotlib.pyplot as plt\n",
        "import seaborn as sns\n",
        "\n",
        "# Load the Spotify dataset\n",
        "spotify_path = \"/mnt/data/spotify.csv\"\n",
        "spotify_data = pd.read_csv(\"spotify.csv\")\n",
        "\n",
        "# Count the number of tracks for each artist\n",
        "artist_track_counts = spotify_data['artist'].value_counts()\n",
        "\n",
        "# Display the artist with the highest number of tracks\n",
        "top_artist = artist_track_counts.idxmax()\n",
        "top_artist_count = artist_track_counts.max()\n",
        "\n",
        "print(f\"Artist with the highest number of tracks: {top_artist} ({top_artist_count} tracks)\")\n",
        "\n",
        "# Visualize the count of tracks for each artist using a countplot\n",
        "plt.figure(figsize=(14, 10))\n",
        "sns.countplot(data=spotify_data, y='artist', order=spotify_data['artist'].value_counts().index)\n",
        "plt.title('Count of Tracks for Each Artist')\n",
        "plt.xlabel('Number of Tracks')\n",
        "plt.ylabel('Artist')\n",
        "plt.show()\n"
      ]
    },
    {
      "cell_type": "code",
      "execution_count": null,
      "id": "46eb3bec-02d3-4c90-8336-859c52151157",
      "metadata": {
        "trusted": true
      },
      "outputs": [],
      "source": [
        "#5  What are the top 5 least popular tracks in the dataset? Provide the artist name and track name for each\n",
        "import pandas as pd\n",
        "\n",
        "# Load the Spotify dataset\n",
        "spotify_path = \"/mnt/data/spotify.csv\"\n",
        "spotify_data = pd.read_csv(\"spotify.csv\")\n",
        "\n",
        "# Sort the dataset by popularity in ascending order\n",
        "least_popular_tracks = spotify_data.sort_values(by='popularity').head(5)\n",
        "\n",
        "# Display the artist name and track name for the top 5 least popular tracks\n",
        "print(least_popular_tracks[['artist', 'track_name', 'popularity']])\n"
      ]
    },
    {
      "cell_type": "code",
      "execution_count": null,
      "id": "816c34d0-f1fe-4fd5-9864-f0b5fa8e0756",
      "metadata": {
        "trusted": true
      },
      "outputs": [],
      "source": [
        "#6 Among the top 5 most popular artists, which artist has the highest popularity on average? Calculate and display the average popularity for each artist\n",
        "import pandas as pd\n",
        "\n",
        "# Load the Spotify dataset\n",
        "spotify_path = \"/mnt/data/spotify.csv\"\n",
        "spotify_data = pd.read_csv(\"spotify.csv\")\n",
        "\n",
        "# Calculate the average popularity for each artist\n",
        "average_popularity = spotify_data.groupby('artist')['popularity'].mean()\n",
        "\n",
        "# Identify the top 5 most popular artists based on average popularity\n",
        "top_5_artists = average_popularity.nlargest(5)\n",
        "\n",
        "# Display the average popularity for each of the top 5 artists\n",
        "print(\"Top 5 most popular artists and their average popularity:\")\n",
        "print(top_5_artists)\n",
        "\n",
        "# Determine the artist with the highest average popularity\n",
        "highest_avg_popularity_artist = top_5_artists.idxmax()\n",
        "highest_avg_popularity_value = top_5_artists.max()\n",
        "\n",
        "print(f\"\\nArtist with the highest average popularity: {highest_avg_popularity_artist} ({highest_avg_popularity_value})\")\n"
      ]
    },
    {
      "cell_type": "code",
      "execution_count": null,
      "id": "00e4e679-3d86-4dae-bdd2-340a5a617f0a",
      "metadata": {
        "trusted": true
      },
      "outputs": [],
      "source": [
        "#7 For the top 5 most popular artists, what are their most popular tracks? List the track name for each artist\n",
        "import pandas as pd\n",
        "\n",
        "# Load the Spotify dataset\n",
        "spotify_path = \"/mnt/data/spotify.csv\"\n",
        "spotify_data = pd.read_csv(\"spotify.csv\")\n",
        "\n",
        "# Calculate the average popularity for each artist\n",
        "average_popularity = spotify_data.groupby('artist')['popularity'].mean()\n",
        "\n",
        "# Identify the top 5 most popular artists based on average popularity\n",
        "top_5_artists = average_popularity.nlargest(5).index\n",
        "\n",
        "# Create a DataFrame to store the most popular track for each top artist\n",
        "most_popular_tracks = pd.DataFrame(columns=['artist', 'track_name', 'popularity'])\n",
        "\n",
        "# Loop through each of the top 5 artists\n",
        "for artist in top_5_artists:\n",
        "    # Filter the dataset for the current artist\n",
        "    artist_tracks = spotify_data[spotify_data['artist'] == artist]\n",
        "    \n",
        "    # Find the most popular track for the current artist\n",
        "    most_popular_track = artist_tracks.loc[artist_tracks['popularity'].idxmax()]\n",
        "    \n",
        "    # Append the information to the DataFrame\n",
        "    most_popular_tracks = most_popular_tracks.append({\n",
        "        'artist': artist,\n",
        "        'track_name': most_popular_track['track_name'],\n",
        "        'popularity': most_popular_track['popularity']\n",
        "    }, ignore_index=True)\n",
        "\n",
        "# Display the most popular track for each of the top 5 artists\n",
        "print(most_popular_tracks)\n"
      ]
    },
    {
      "cell_type": "code",
      "execution_count": null,
      "id": "6d853af3-3ede-4552-a328-5526008e40d1",
      "metadata": {
        "trusted": true
      },
      "outputs": [],
      "source": [
        "#8 Visualize relationships between multiple numerical variables simultaneously using a pair plot\n",
        "import pandas as pd\n",
        "import seaborn as sns\n",
        "import matplotlib.pyplot as plt\n",
        "\n",
        "# Load the Spotify dataset\n",
        "spotify_path = \"/mnt/data/spotify.csv\"\n",
        "spotify_data = pd.read_csv(\"spotify.csv\")\n",
        "\n",
        "# Select numerical columns to include in the pair plot\n",
        "numerical_columns = ['popularity', 'duration_ms', 'danceability', 'energy', 'loudness']\n",
        "\n",
        "# Create the pair plot\n",
        "sns.pairplot(spotify_data[numerical_columns])\n",
        "plt.suptitle('Pair Plot of Numerical Variables in Spotify Dataset', y=1.02)\n",
        "plt.show()\n"
      ]
    },
    {
      "cell_type": "code",
      "execution_count": null,
      "id": "9d7bdec4-8751-443e-89e7-4b8053762e00",
      "metadata": {
        "trusted": true
      },
      "outputs": [],
      "source": [
        "#9 Does the duration of tracks vary significantly across different artists? Explore this visually using a box plot or violin plot\n",
        "import pandas as pd\n",
        "import seaborn as sns\n",
        "import matplotlib.pyplot as plt\n",
        "\n",
        "# Load the Spotify dataset\n",
        "spotify_path = \"/mnt/data/spotify.csv\"\n",
        "spotify_data = pd.read_csv(\"spotify.csv\")\n",
        "\n",
        "# Visualize the distribution of track durations across different artists using a box plot\n",
        "plt.figure(figsize=(14, 10))\n",
        "sns.boxplot(data=spotify_data, x='artist', y='duration_ms')\n",
        "plt.title('Distribution of Track Durations by Artist')\n",
        "plt.xlabel('Artist')\n",
        "plt.ylabel('Duration (ms)')\n",
        "plt.xticks(rotation=90)\n",
        "plt.show()\n",
        "\n",
        "# Alternatively, visualize using a violin plot\n",
        "plt.figure(figsize=(14, 10))\n",
        "sns.violinplot(data=spotify_data, x='artist', y='duration_ms')\n",
        "plt.title('Distribution of Track Durations by Artist')\n",
        "plt.xlabel('Artist')\n",
        "plt.ylabel('Duration (ms)')\n",
        "plt.xticks(rotation=90)\n",
        "plt.show()\n"
      ]
    },
    {
      "cell_type": "code",
      "execution_count": null,
      "id": "602672b0-9757-493e-9779-7c192dc7f32c",
      "metadata": {
        "trusted": true
      },
      "outputs": [],
      "source": [
        "#10How does the distribution of track popularity vary for different artists? Visualize this using a swarm plot or a violin plot\n",
        "import pandas as pd\n",
        "import seaborn as sns\n",
        "import matplotlib.pyplot as plt\n",
        "\n",
        "# Load the Spotify dataset\n",
        "spotify_path = \"/mnt/data/spotify.csv\"\n",
        "spotify_data = pd.read_csv(\"spotify.csv\")\n",
        "\n",
        "# Visualize the distribution of track popularity across different artists using a swarm plot\n",
        "plt.figure(figsize=(14, 10))\n",
        "sns.swarmplot(data=spotify_data, x='artist', y='popularity')\n",
        "plt.title('Distribution of Track Popularity by Artist')\n",
        "plt.xlabel('Artist')\n",
        "plt.ylabel('Popularity')\n",
        "plt.xticks(rotation=90)\n",
        "plt.show()\n",
        "# Visualize the distribution of track popularity across different artists using a violin plot\n",
        "plt.figure(figsize=(14, 10))\n",
        "sns.violinplot(data=spotify_data, x='artist', y='popularity')\n",
        "plt.title('Distribution of Track Popularity by Artist')\n",
        "plt.xlabel('Artist')\n",
        "plt.ylabel('Popularity')\n",
        "plt.xticks(rotation=90)\n",
        "plt.show()\n"
      ]
    }
  ],
  "metadata": {
    "kernelspec": {
      "display_name": "Python (Pyodide)",
      "language": "python",
      "name": "python"
    },
    "language_info": {
      "codemirror_mode": {
        "name": "python",
        "version": 3
      },
      "file_extension": ".py",
      "mimetype": "text/x-python",
      "name": "python",
      "nbconvert_exporter": "python",
      "pygments_lexer": "ipython3",
      "version": "3.8"
    }
  },
  "nbformat": 4,
  "nbformat_minor": 5
}
